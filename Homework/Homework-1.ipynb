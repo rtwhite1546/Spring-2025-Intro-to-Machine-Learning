{
 "cells": [
  {
   "cell_type": "markdown",
   "id": "2c8ab292-266f-4722-848f-1109966685d0",
   "metadata": {},
   "source": [
    "# MTH 4224 / CSE 4224 - Homework 1\n",
    "\n",
    "**Deadline**: Feb 24, 2025\n",
    "\n",
    "**Points**: 45\n",
    "\n",
    "**Note**: I did give some hints, but I did not teach about every built-in function you're going to need to use. This will *always* be the situation in real life. Be resourceful, read the documentation, Google your errors.\n",
    "\n",
    "**Academic Honesty**: Write your code from scratch. Learn from the Internet, talk to classmates or friends, ask me questions, but don't just copy blocks of code. Every submission I grade should be unique.\n",
    "\n",
    "### Instructions\n",
    "\n",
    "Submit **one** Python notebook file for grading. Your file must include **mathematical work** (type it or insert pictures of your handwritten work), **text explanations** of your work, **well-commented code**, and the **outputs** from your code.\n",
    "\n",
    "### Problems\n",
    "\n",
    "1. Ridge regression is a modified version of linear regression that penelizes the coefficients for being large. It accomplishes this by adding a so-called $L^2$ penalty term to the loss function (e.g. mean squared error): $L(\\theta)=\\frac{1}{n}\\sum\\limits_{i=1}^n \\left(\\hat{f}(x_i)-y_i\\right)^2 + \\lambda\\sum\\limits_{i=1}^d \\theta_i^2$\n",
    "\n",
    "    where $\\lambda>0$ is a **hyperparameter** that must be tuned by the user. An appropriate choice of $\\lambda$ can often help with learning datasets where the input features are highly correlated or it can help with an overfitting problem.\n",
    "\n",
    "    a. **[5 points]** Write each part of $L(\\theta)$ in matrix-vector form where $\\hat{f}$ is a LBF expansion regression model. Define each matrix and vector separately by writing their elements with subscripts, and state their dimensions.\n",
    "\n",
    "    b. **[10 points]** Solve the following optimization problem by hand for the loss function $L$ above $\\min\\limits_{\\theta\\in\\mathbb{R}^{d+1}} L(\\theta)$\n",
    "\n",
    "    c. **[5 points]** Write a Python class for this ridge LBF expansion regression model with a `fit` function applying the formula from part (b) to compute the parameters $\\theta$ and a `predict` function to make predictions for input data after the model has been fit.\n",
    "\n",
    "2. Use the [Delhi Daily Climate Time Series Dataset](https://www.kaggle.com/datasets/sumanthvrao/daily-climate-time-series-data) for this problem. You will try to predict the temperatures based on the day with regression models. Use 2013-15 data for the training set, 2016 for the validation set, and 2017 data for the test set.\n",
    "\n",
    "    a. **[5 points]** Fit the least squares linear model to the training data to predict the temperatures from the other daily data. Report and interpret the train/test $r^2$ and mean absolute error. Plot the date vs. temperatures from the test set with your model overlaid.\n",
    "    \n",
    "    b. **[10 points]** Fit a ridge regression to the training set to predict temperatures, and evaluate its fit on the validation set. Repeat for several different values of $\\lambda$. Report and interpret the train/test $r^2$ and mean absolute error. Plot the date vs. temperatures from the test set with your model overlaid for the optimal $\\lambda$.\n",
    "     \n",
    "    c. **[10 points]** Fit an LBF expansion of your choice to the training set to predict temperatures, and evaluate its fit on the validation set. Repeat this for several different values of $\\lambda$. Report and interpret the train/test $r^2$ and mean absolute error. Plot the date vs. temperatures from the test set with your model overlaid for the optimal $\\lambda$.\n",
    "\n",
    "Document all experiments and conclude which experiment works best based on an appropriate train/validation/test split. Report your best test-set MAE at the end of your submission.\n",
    "\n",
    "**The best three models in the class as evaluated once on the test set will earn +5 bonus points. (You must turn in your work on time, appropriate train/val/test split, and report your best test MAE at the bottom of your report to be eligible.)**"
   ]
  }
 ],
 "metadata": {
  "kernelspec": {
   "display_name": "Python 3 (ipykernel)",
   "language": "python",
   "name": "python3"
  },
  "language_info": {
   "codemirror_mode": {
    "name": "ipython",
    "version": 3
   },
   "file_extension": ".py",
   "mimetype": "text/x-python",
   "name": "python",
   "nbconvert_exporter": "python",
   "pygments_lexer": "ipython3",
   "version": "3.10.9"
  }
 },
 "nbformat": 4,
 "nbformat_minor": 5
}
