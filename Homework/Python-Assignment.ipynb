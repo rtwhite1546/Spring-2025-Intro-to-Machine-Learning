{
 "cells": [
  {
   "cell_type": "markdown",
   "id": "c34db433-7d00-483c-9acf-b21912826d3a",
   "metadata": {},
   "source": [
    "# MTH 4224 / CSE 4224 - Python Assignment\n",
    "\n",
    "The goal of this assignment is to practice and become comfortable with basic Python functionality like loops, `if` statements, lists, functions, classes, etc.\n",
    "\n",
    "**Deadline**: Jan 24, 2024\n",
    "\n",
    "**Points**: 40\n",
    "\n",
    "**Note**: I did give some hints, but I did not teach about every built-in function you're going to need to use. This will *always* be the situation in real life. Be resourceful, read the documentation, Google your errors.\n",
    "\n",
    "**Academic Honesty**: Write your code from scratch. Learn from the Internet, talk to friends, ask me questions, but don't copy blocks of code. Every submission I grade should be unique.\n",
    "\n",
    "## Instructions\n",
    "\n",
    "Submit **one** Python notebook file for grading. Your file must include **mathematical work** (type it or insert pictures of your handwritten work), **text explanations** of your work, **well-commented code**, and the **outputs** from your code.\n",
    "\n",
    "## Problem 1: Numerical Integration\n",
    "\n",
    "Design a Python class `NumericalIntegrator` that provides methods for numerically integrating a function of one variable over a specified interval. Requirements:\n",
    "\n",
    "1. [5 points] Include an `__init__` function to initialize `NumericalIntegrator` objects with user-specified function to integrate, and the interval to integrate.\n",
    "\n",
    "2. [10 points]  Include methods to use the (a) left-hand rule, (b) right-hand rule, (c) midpoint rule, (d) trapezoidal rule, (e) Simpson's rule, and (f) a Monte Carlo approach, with all necessary parameters as inputs.\n",
    "\n",
    "3. [5 points]  Include methods to measure the error compared to an explicit solution and runtime.\n",
    "\n",
    "4. [5 points]  For the following functions, perform an integral by hand to find an explicit solution and then compare the error rates and runtimes of each of the 5 numerical methods above. (Choose the parameters to enable a fair comparison.)\n",
    "\n",
    "   * $3x^3-2x+4$ on the interval $[-1,1]$\n",
    "   * $\\sin^n x$ on the interval $[0,\\pi]$ (test for $n=1,2,3,5,10$) [*Hint.* Review reduction formulas from Calculus 2.]\n",
    "   * $e^x\\sin x$ on the interval $[0,\\pi]$\n",
    "   * $\\frac{1}{x^2}$ on the interval $[1,\\infty)$\n",
    "  \n",
    "## Problem 2: Ordinary Least Squares on Real Data\n",
    "\n",
    "1. [10 points] Read the WHO Life Expectancy dataset (https://www.kaggle.com/datasets/kumarajarshi/life-expectancy-who) into Python and clean it into a data matrix $X$ with as many features as possible and a life expectancy label vector $Y$. Find a solution for dealing with missing data, convert all relevant data to numerical data using best practices.\n",
    "\n",
    "2. [5 points] Split the data randomly into 80\\% training data and 20\\% test data. Train an OLS model on the training data and test on the test data. Report the sum of squared errors and runtime for both training and inference."
   ]
  }
 ],
 "metadata": {
  "kernelspec": {
   "display_name": "Python 3 (ipykernel)",
   "language": "python",
   "name": "python3"
  },
  "language_info": {
   "codemirror_mode": {
    "name": "ipython",
    "version": 3
   },
   "file_extension": ".py",
   "mimetype": "text/x-python",
   "name": "python",
   "nbconvert_exporter": "python",
   "pygments_lexer": "ipython3",
   "version": "3.11.7"
  }
 },
 "nbformat": 4,
 "nbformat_minor": 5
}
