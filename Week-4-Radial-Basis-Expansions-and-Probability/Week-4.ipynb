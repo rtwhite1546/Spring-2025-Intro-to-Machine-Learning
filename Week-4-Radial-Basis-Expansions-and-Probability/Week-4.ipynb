{
 "cells": [
  {
   "cell_type": "markdown",
   "id": "f6e97fb0-d9b3-4363-a593-77e1d9456059",
   "metadata": {},
   "source": [
    "# Week 4: Implementing RBF Networks, Regularized Regression"
   ]
  },
  {
   "cell_type": "markdown",
   "id": "00fc536f-d317-467a-b0cd-622e8f40ed7b",
   "metadata": {
    "tags": []
   },
   "source": [
    "# Lecture 6: A Gradient-based RBF Network Implementation\n",
    "\n",
    "In class, we saw that radial basis function networks model unknown functions as\n",
    "\n",
    "$$\\hat{f}(x_i)=\\theta_0 + \\sum\\limits_{j=1}^M K_{\\lambda_j}(\\xi_j,x_i)\\theta_j=X_K\\theta$$\n",
    "\n",
    "where $K$ is some function dependent on the distance between points $\\xi_j$ and $x$, but is not otherwise dependent on those variables. The most common is the Gaussian kernel,\n",
    "\n",
    "$$K_{\\lambda_j}(\\xi_j,x_i) = \\exp\\left(-\\frac{\\|\\xi_j-x_i\\|^2}{2\\lambda_j^2}\\right)$$\n",
    "\n",
    "and\n",
    "\n",
    "$$X_K=\\begin{pmatrix}\n",
    "1 & K_{\\lambda_1}(\\xi_1, x_1) & \\cdots & K_{\\lambda_M}(\\xi_M, x_1)\\\\\n",
    "1 & K_{\\lambda_1}(\\xi_1, x_2) & \\cdots & K_{\\lambda_M}(\\xi_M, x_2)\\\\\n",
    "\\vdots & \\vdots & \\ddots & \\vdots\\\\\n",
    "1 & K_{\\lambda_1}(\\xi_1, x_n) & \\cdots & K_{\\lambda_M}(\\xi_M, x_n)\n",
    "\\end{pmatrix}$$\n",
    "\n",
    "and $\\theta=(\\theta_0, \\theta_1, ..., \\theta_M)$.\n",
    "\n",
    "We will try to fit the model to the training data $(x_1,y_1), (x_2, y_2), ..., (x_n, y_n)$, where each point is in $d$-dimensional space: $x_i\\in\\mathbb{R}^d$. The parameter has parameters $\\lambda_j$, $\\theta_j$, $\\xi_j$ for $j=1, 2, ..., M$ and $\\theta_0$, noting each $\\xi_j$ has the same dimension as each $x_i$.\n",
    "\n",
    "A good approach to Fitting the model is to minimize the sum of squared error loss function,\n",
    "\n",
    "$$L(\\theta,\\lambda,\\xi)=\\|X_K\\theta - y\\|^2$$\n",
    "\n",
    "where $y=(y_1, y_2, ..., y_n)$ That is, to solve the problem\n",
    "\n",
    "$$\\min\\limits_{\\theta, \\lambda, \\xi}L(\\theta,\\lambda,\\xi)$$\n",
    "\n",
    "It turns out, this problem is not particularly easy for a few reasons:\n",
    "\n",
    "* $L$ is non-convex and does not have a unique minimum. There are multiple local minima, so it is difficult to know if we have found the global minimum.\n",
    "* $L$ depends on $M+1$ variables $\\theta_j$, $M$ variables $\\lambda_j$, and $M$ $d$-dimensional variables $\\xi_j$, which makes many variables with respect to which we need to minimize.\n",
    "\n",
    "Unlike the previous methods we have learned, finding critical values of the loss function $L$ is not easy enough to do by hand, so we will rely on algorithms like gradient descent for this purpose.\n",
    "\n",
    "In addition, approximating gradients $\\nabla L$ with the `computeGradient` function will be incredibly expensive since we would need to evaluate $L$ with a small perturbation in each of the $(2+d)M+1$ components of the input to $L$ to get all the partial derivatives in *each* iteration of gradient descent.\n",
    "\n",
    "This is infeasible, so we will derive a closed-form formula for the exact gradient $\\nabla L$ that can be implemented instead of requiring all of these evaluations of $L$. Please see the details in the lecture video, but we found the following partial derivatives.\n",
    "\n",
    "$$\\begin{align}\n",
    "&\\frac{\\partial L(\\theta,\\lambda,\\xi)}{\\partial \\theta_0}=2\\sum\\limits_{i=1}^n\\left(\\hat{f}(x_i)-y_i\\right)\\\\\n",
    "&\\frac{\\partial L(\\theta,\\lambda,\\xi)}{\\partial \\theta_k}=2\\sum\\limits_{i=1}^n\\left(\\hat{f}(x_i)-y_i\\right)K_{\\lambda_k}(\\xi_k,x_i), &&k=1, 2, ..., M\\\\\n",
    "&\\frac{\\partial L(\\theta,\\lambda,\\xi)}{\\partial \\theta_k}=2\\frac{\\theta_k}{\\lambda_k}\\sum\\limits_{i=1}^n\\left(\\hat{f}(x_i)-y_i\\right)K_{\\lambda_k}(\\xi_k,x_i)\\left(\\frac{\\|\\xi_k-x_i\\|^2}{\\lambda_k^2}-1\\right), &&k=1, 2, ..., M\\\\\n",
    "&\\frac{\\partial L(\\theta,\\lambda,\\xi)}{\\partial \\xi_{kl}}=2\\frac{\\theta_k}{\\lambda_k^2}\\sum\\limits_{i=1}^n\\left(\\hat{f}(x_i)-y_i\\right)K_{\\lambda_k}(\\xi_k,x_i)(x_{il}-\\xi_{kl}), &&k=1, 2, ..., M\\text{ and }l=1, ..., d\n",
    "\\end{align}\n",
    "$$\n",
    "\n",
    "Note that the derivatives all have the $(\\hat{f}(x_i)-y_i)$ term and some share the $K_{\\lambda_k}(\\xi_k,x_i)$ term, so an effective implementation that computes these partial derivatives will reuse the calculations rather than redoing them so many times.\n",
    "\n",
    "It should be noted the coefficient 2 of each of these may be dropped because we will be taking steps proportional to the gradient $\\nabla L$ with a learning rate we can control, so it is redundant and we omit it from the code.\n",
    "\n",
    "## Implementing Gaussian RBF Networks"
   ]
  },
  {
   "cell_type": "code",
   "execution_count": 1,
   "id": "6c0c1fe5-2568-41e6-bf61-b976d0e29d8a",
   "metadata": {},
   "outputs": [],
   "source": [
    "import copy\n",
    "import matplotlib.pyplot as plt\n",
    "import numpy as np\n",
    "import pandas as pd\n",
    "\n",
    "from sklearn.metrics import mean_absolute_error\n",
    "from sklearn.metrics import r2_score\n",
    "from sklearn.model_selection import train_test_split"
   ]
  },
  {
   "cell_type": "code",
   "execution_count": 2,
   "id": "5fd6c25d-0c80-4009-8810-bc9c06955b9e",
   "metadata": {},
   "outputs": [],
   "source": [
    "# create a RBF network class\n",
    "class GaussianRBFnetwork:\n",
    "    # initialize the model\n",
    "    def __init__(self, d, M, alpha = 0.001, initialization = 'uniform'):\n",
    "        # the dimension of the datapoints\n",
    "        self.d = d\n",
    "        \n",
    "        # the number of radial basis functions\n",
    "        self.M = M\n",
    "                \n",
    "        # the learning rate\n",
    "        self.alpha = alpha\n",
    "        \n",
    "        # initialize the parameters\n",
    "        if initialization == 'uniform':\n",
    "            theta = 10 * np.random.uniform(-1, 1, size = (M + 1))\n",
    "            lam = 10 * np.random.uniform(0, 1, size = (M))\n",
    "            xi = 10 * np.random.uniform(-1, 1, size = (M, d))\n",
    "\n",
    "        # save the initial parameters\n",
    "        self.theta = theta\n",
    "        self.lam = lam\n",
    "        self.xi = xi\n",
    "                \n",
    "    # fit the model to some data X with labels y\n",
    "    def fit(self, X, y, epochs = 1000, update = 10, annealing = False):\n",
    "        self.n = X.shape[0]\n",
    "        \n",
    "        # save the training data\n",
    "        self.input = np.hstack((np.ones([self.n, 1]), X))\n",
    "        \n",
    "        # save the training labels\n",
    "        self.output = y\n",
    "        \n",
    "        # initialize the kernel-weighted inputs\n",
    "        XK = np.zeros([self.n, self.M])\n",
    "        XK = np.hstack((np.ones([self.n, 1]), XK))\n",
    "        \n",
    "        # save the learning rate locally\n",
    "        alpha = copy.copy(self.alpha)\n",
    "        \n",
    "        # run gradient descent with exact gradient\n",
    "        # pre-compute terms\n",
    "        for j in range(epochs):\n",
    "            # compute the kernel-weighted inputs\n",
    "            for i in range(self.n):\n",
    "                for k in range(self.M):\n",
    "                    XK[i, k + 1] = self.GaussianKernel(self.input[i, 1:], self.xi[k], self.lam[k])\n",
    "                        \n",
    "            # training predictions\n",
    "            predictions = XK @ self.theta\n",
    "            \n",
    "            # compute the error\n",
    "            error = predictions - self.output\n",
    "\n",
    "            # compute the weighted error\n",
    "            weightederror = np.atleast_2d(error).T * XK\n",
    "            \n",
    "            # compute the theta partial derivatives\n",
    "            thetagrad = np.sum(weightederror, axis = 0)\n",
    "            \n",
    "            # compute the lambda partial derivatives\n",
    "            term3 = np.zeros([self.n, self.M])\n",
    "            for k in range(self.M):\n",
    "                term3[:, k] = ((np.linalg.norm(self.xi[k] - self.input[:,1:], axis = 1)/self.lam[k]) ** 2 - 1) * self.theta[k]/self.lam[k]\n",
    "            \n",
    "            lamerror = term3 * weightederror[:, 1:]\n",
    "            lamgrad = np.sum(lamerror, axis = 0)\n",
    "\n",
    "            # compute the xi partial derivatives\n",
    "            term4 = np.zeros([self.n, self.M, self.d])\n",
    "            for k in range(self.M):\n",
    "                for l in range(self.d):\n",
    "                    term4[:, k, l] = (self.input[:, l] - self.xi[k, l]) * self.theta[k] / self.lam[k] ** 2\n",
    "\n",
    "            xierror = term4 * np.atleast_3d(weightederror[:, 1:])\n",
    "            xigrad = np.sum(xierror, axis = 0)\n",
    "            \n",
    "            # weight update\n",
    "            self.theta -= self.alpha * thetagrad\n",
    "            self.lam -= self.alpha * lamgrad\n",
    "            self.xi -= self.alpha * xigrad\n",
    "\n",
    "            # ensure lambdas are positive\n",
    "            self.lam = np.abs(self.lam)\n",
    "                        \n",
    "            # if the annealing variable is True, shrink the learning rate over time\n",
    "            if annealing:\n",
    "                self.alpha = (1 - j / epochs) * alpha\n",
    "                \n",
    "            # print a status update periodically\n",
    "            if j % update == 0:\n",
    "                print('Epoch', j, '\\tLoss =', np.sum(error ** 2)/self.M)\n",
    "\n",
    "    # compute predictions\n",
    "    def predict(self, X):\n",
    "        n = X.shape[0]\n",
    "        X = np.hstack((np.ones([n, 1]), X))\n",
    "        \n",
    "        # initialize the kernel-weighted inputs\n",
    "        XK = np.zeros([n, self.M])\n",
    "        XK = np.hstack((np.ones([n, 1]), XK))\n",
    "        \n",
    "        # compute the kernel-weighted inputs\n",
    "        for i in range(n):\n",
    "            for k in range(self.M):\n",
    "                XK[i, k + 1] = self.GaussianKernel(X[i, 1:], self.xi[k], self.lam[k])\n",
    "                \n",
    "        # training predictions\n",
    "        predictions = XK @ self.theta\n",
    "\n",
    "        return predictions\n",
    "    \n",
    "    # the Gaussian radial basis function\n",
    "    def GaussianKernel(self, x, xi, lam):\n",
    "        return (1/lam) * np.exp(-np.linalg.norm(x - xi) ** 2 / (2 * lam ** 2))"
   ]
  },
  {
   "cell_type": "markdown",
   "id": "7f1309fd-bf8e-47af-b11e-73cae0d54bcb",
   "metadata": {},
   "source": [
    "### Example: Tiny Dataset"
   ]
  },
  {
   "cell_type": "code",
   "execution_count": 3,
   "id": "057d12ba-b573-461a-a03f-32be4c7fda20",
   "metadata": {},
   "outputs": [
    {
     "name": "stdout",
     "output_type": "stream",
     "text": [
      "Epoch 0 \tLoss = 59.939986830503855\n",
      "Epoch 5000 \tLoss = 0.04939586295404132\n",
      "Epoch 10000 \tLoss = 0.045996754169380163\n",
      "The mean absolute error on the training set is 0.1625752684753517\n"
     ]
    },
    {
     "data": {
      "text/plain": [
       "[<matplotlib.lines.Line2D at 0x22977b00c50>]"
      ]
     },
     "execution_count": 3,
     "metadata": {},
     "output_type": "execute_result"
    },
    {
     "data": {
      "image/png": "[encoded data removed]",
      "text/plain": [
       "<Figure size 640x480 with 1 Axes>"
      ]
     },
     "metadata": {},
     "output_type": "display_data"
    }
   ],
   "source": [
    "model = GaussianRBFnetwork(d = 1, M = 5, alpha = 0.05, initialization = 'uniform')\n",
    "\n",
    "X = np.array([[0], [1], [2], [3], [4]])\n",
    "Y = np.array([1, 2, 3, 3, 4])\n",
    "\n",
    "model.fit(X, Y, epochs = 15000, update = 5000, annealing = False)\n",
    "\n",
    "# predict the outputs\n",
    "predictions = model.predict(X)\n",
    "\n",
    "# compute the training and test mean absolute error\n",
    "trainError = mean_absolute_error(Y, predictions)\n",
    "\n",
    "# return quality metrics\n",
    "print('The mean absolute error on the training set is', trainError)\n",
    "\n",
    "xModel = np.linspace(X[0] - 1, X[-1] + 1, 100)\n",
    "yModel = model.predict(xModel)\n",
    "\n",
    "plt.scatter(X, Y)\n",
    "\n",
    "plt.plot(xModel, yModel, 'r')"
   ]
  },
  {
   "cell_type": "markdown",
   "id": "3fa07801-2919-45fe-80e5-bd17e5778f30",
   "metadata": {},
   "source": [
    "We get a nice fit here. Similar to kernel smoothing, a larger $M$ will result in smaller loss, but may not generalize well. Further, there is an intermediate value of the learning rate $\\alpha$ that will be most effective--too large and it will not find a good minimum, too small and it will take too long to converge.\n",
    "\n",
    "If we run the code multiple times, we will usually land in different local minima due to the random initialization and existence of multiple local minima where gradient descent can get stuck."
   ]
  },
  {
   "cell_type": "markdown",
   "id": "32bca2c5-541d-47c1-a3de-1e19185f2c96",
   "metadata": {},
   "source": [
    "### Example: Shampoo Dataset"
   ]
  },
  {
   "cell_type": "code",
   "execution_count": 4,
   "id": "0697a4d3-1df4-4762-bae9-f3fb784e1960",
   "metadata": {},
   "outputs": [],
   "source": [
    "# read the shampoo sales dataset\n",
    "data = pd.read_csv('../data/shampoo.csv')\n",
    "\n",
    "# save the targets\n",
    "Y = data['Sales'].to_numpy()\n",
    "\n",
    "# make a column vector of 0s with n elements\n",
    "X = np.zeros([Y.shape[0], 1])\n",
    "\n",
    "# convert the vector to (0, 1, 2, ..., n)\n",
    "X[:,0] = [i for i in range(Y.shape[0])]\n",
    "\n",
    "#X = scale(X)\n",
    "\n",
    "# split the data into train and test sets\n",
    "trainX, testX, trainY, testY = train_test_split(X, Y, test_size = 0.25, random_state = 1)"
   ]
  },
  {
   "cell_type": "code",
   "execution_count": 5,
   "id": "4182c975-126c-4321-b8ff-e0cb0e251ef0",
   "metadata": {},
   "outputs": [
    {
     "name": "stdout",
     "output_type": "stream",
     "text": [
      "Epoch 0 \tLoss = 142013.1495160939\n",
      "Epoch 1000 \tLoss = 14708.315135236666\n",
      "Epoch 2000 \tLoss = 11988.217154812224\n",
      "Epoch 3000 \tLoss = 10425.104332065093\n",
      "Epoch 4000 \tLoss = 9350.797541077636\n",
      "Epoch 5000 \tLoss = 9245.25884501607\n",
      "Epoch 6000 \tLoss = 8767.688297829127\n",
      "Epoch 7000 \tLoss = 8462.303497747187\n",
      "Epoch 8000 \tLoss = 10148.982038854254\n",
      "Epoch 9000 \tLoss = 8665.105720829455\n",
      "The r^2 score is 0.685578691159587\n",
      "The mean absolute error on the training set is 62.27225175998699\n",
      "The mean absolute error on the testing set is 52.883149792376564\n"
     ]
    },
    {
     "data": {
      "image/png": "[encoded data removed]",
      "text/plain": [
       "<Figure size 640x480 with 1 Axes>"
      ]
     },
     "metadata": {},
     "output_type": "display_data"
    }
   ],
   "source": [
    "model = GaussianRBFnetwork(d = 1, M = 20, alpha = 0.01)\n",
    "\n",
    "model.fit(trainX, trainY, epochs = 10000, update = 1000, annealing = False)\n",
    "\n",
    "# predict the outputs\n",
    "trainPredictions = model.predict(trainX)\n",
    "\n",
    "# plot the training points\n",
    "plt.scatter(trainX, trainY, label = 'Training Data')\n",
    "\n",
    "# plot the fitted model with the training data\n",
    "xModel = np.atleast_2d(np.linspace(X[0][0],X[-1][0],100)).T\n",
    "\n",
    "# compute the predicted curve\n",
    "yModel = model.predict(xModel)\n",
    "\n",
    "plt.plot(xModel, yModel, 'r')\n",
    "\n",
    "testPredictions = model.predict(testX)\n",
    "\n",
    "# compute the training and test mean absolute error\n",
    "trainError = mean_absolute_error(trainY, trainPredictions)\n",
    "testError = mean_absolute_error(testY, testPredictions)\n",
    "    \n",
    "# return quality metrics\n",
    "print('The r^2 score is', r2_score(trainY, trainPredictions))\n",
    "print('The mean absolute error on the training set is', trainError)\n",
    "print('The mean absolute error on the testing set is', testError)"
   ]
  },
  {
   "cell_type": "markdown",
   "id": "bcbd3d1c-70a7-4eea-af3f-9ab4d53b7cde",
   "metadata": {},
   "source": [
    "Again, a nice curved plot to fit the data."
   ]
  },
  {
   "cell_type": "markdown",
   "id": "e7d35638-a74b-4ff0-824d-68510c8ec716",
   "metadata": {},
   "source": [
    "# Lecture 12: Regularization and Overfitting\n",
    "\n",
    "The problem of **overfitting** is an issue where a machine learning model fits too strongly to the training data, which reduces its ability to generalize to make good predictions on the test set. High performance on the test set is typically our most important goal, because this measures how the model performs on data it has not seen before, indicating the model should perform well on real-world data, assuming the test data are representative of the data we hope to predict.\n",
    "\n",
    "Below, we implement ridge regression, which imposes an $L^2$ penalty on the model parameters to minimize the loss function\n",
    "\n",
    "$$L(\\theta) = \\|X\\theta - y\\|^2 + \\lambda_2\\|\\theta\\|^2$$"
   ]
  },
  {
   "cell_type": "code",
   "execution_count": 1,
   "id": "bb64c8f3-8045-406a-b6b1-158a99acaabc",
   "metadata": {},
   "outputs": [],
   "source": [
    "import numpy as np\n",
    "import matplotlib.pyplot as plt\n",
    "import pandas as pd\n",
    "from sklearn.metrics import mean_squared_error\n",
    "from sklearn.metrics import mean_absolute_error\n",
    "from sklearn.metrics import r2_score\n",
    "from sklearn.model_selection import train_test_split\n",
    "from sklearn.preprocessing import scale"
   ]
  },
  {
   "cell_type": "code",
   "execution_count": 2,
   "id": "c8defd49-73e6-4746-accd-0aad785bbcee",
   "metadata": {},
   "outputs": [],
   "source": [
    "class RidgeRegression:\n",
    "    \n",
    "    def __init__(self, alpha = 0.001, lambda2 = 0):\n",
    "        # save variables to object memory\n",
    "        self.alpha = alpha\n",
    "        self.lambda2 = lambda2\n",
    "        \n",
    "    # fit the model to the data\n",
    "    def fit(self, X, y, epochs = 1000, update = 100):\n",
    "        # find the dimension of the data\n",
    "        d = X.shape[1]\n",
    "        \n",
    "        # initialize the model parameters\n",
    "        self.theta0 = np.random.uniform()\n",
    "        self.theta = np.random.uniform(size = d)\n",
    "        \n",
    "        # compute the means of X and y\n",
    "        yMean = np.mean(y)\n",
    "        xMean = np.mean(X, axis = 0)\n",
    "        \n",
    "        # standardize the data\n",
    "        X = scale(X)\n",
    "        y = scale(y)\n",
    "        \n",
    "        # compute a scaling parameter\n",
    "        eta = np.linalg.norm(X)\n",
    "        \n",
    "        # train the model\n",
    "        for i in range(epochs):\n",
    "            # compute the predicted y values\n",
    "            predictions = self.theta0 + X @ self.theta\n",
    "            \n",
    "            # compute the error\n",
    "            error = predictions - y\n",
    "            \n",
    "            # compute the sum of squared errors\n",
    "            sse = np.sum(error ** 2)\n",
    "            \n",
    "            # compute the loss\n",
    "            loss = sse + self.lambda2 * np.linalg.norm(self.theta) ** 2 #+ self.lambda1 * np.sum(np.abs(self.theta))\n",
    "\n",
    "            # print an update\n",
    "            if (i + 1) % update == 0:\n",
    "                print('Epoch', i + 1, '\\tLoss', loss)\n",
    "                                                \n",
    "            # weight update for the bias\n",
    "            self.theta -= self.alpha * (X.T @ error + 2 * self.lambda2 * self.theta)\n",
    "            self.theta0 = yMean - xMean @ self.theta\n",
    "\n",
    "    # predict the output from input (testing) data\n",
    "    def predict(self, X):\n",
    "        # return the predicted outputs\n",
    "        return self.theta0 + X @ self.theta"
   ]
  },
  {
   "cell_type": "markdown",
   "id": "f2b6bf48-6fd3-4e7b-bdb0-401b94dbaf63",
   "metadata": {},
   "source": [
    "Let's test it on a small, simple dataset to check that it works."
   ]
  },
  {
   "cell_type": "code",
   "execution_count": 3,
   "id": "e58989b1-b0e4-4d19-9fb0-fd8ae3a7db3a",
   "metadata": {},
   "outputs": [
    {
     "name": "stdout",
     "output_type": "stream",
     "text": [
      "Epoch 10 \tLoss 30.99233886905759\n",
      "Epoch 20 \tLoss 15.963356371329532\n",
      "Epoch 30 \tLoss 8.326949445389527\n",
      "Epoch 40 \tLoss 4.8280371062671446\n",
      "Epoch 50 \tLoss 3.575931351589637\n",
      "Epoch 60 \tLoss 3.4863419976443106\n",
      "Epoch 70 \tLoss 3.9486373509603365\n",
      "Epoch 80 \tLoss 4.628068093393975\n",
      "Epoch 90 \tLoss 5.348714105108488\n",
      "Epoch 100 \tLoss 6.024602447060918\n",
      "The predicted y values are [2.12829514 2.36414757 2.6        2.83585243 3.07170486]\n",
      "The real y values are [1 2 3 3 4]\n",
      "The theta values are [0.71318057 0.23585243]\n",
      "The r^2 score is 0.5280135239321685\n",
      "The mean squared error is 0.4908659351105449\n",
      "The mean absolute error is 0.5969770850578974\n"
     ]
    },
    {
     "data": {
      "image/png": "[encoded data removed]",
      "text/plain": [
       "<Figure size 432x288 with 1 Axes>"
      ]
     },
     "metadata": {
      "needs_background": "light"
     },
     "output_type": "display_data"
    }
   ],
   "source": [
    "X = np.array([[6], [7], [8], [9], [10]])\n",
    "y = np.array([1, 2, 3, 3, 4])\n",
    "\n",
    "model = RidgeRegression(lambda2 = 10)\n",
    "model.fit(X, y, epochs = 100, update = 10)\n",
    "predictions = model.predict(X)\n",
    "\n",
    "# print the predictions\n",
    "print('The predicted y values are', predictions)\n",
    "\n",
    "# print the real y values\n",
    "print('The real y values are', y)\n",
    "\n",
    "# print the beta values\n",
    "parameters = np.concatenate((np.atleast_1d(model.theta0), model.theta))\n",
    "print('The theta values are', parameters)\n",
    "\n",
    "# plot the training points\n",
    "plt.scatter(X, y, label = 'Training Data')\n",
    "\n",
    "# plot the fitted model with the training data\n",
    "xModel = np.linspace(6,10,100)\n",
    "yModel = parameters[0] + parameters[1]*xModel\n",
    "lineFormula = 'y={:.3f}+{:.3f}x'.format(parameters[0], parameters[1])\n",
    "plt.plot(xModel, yModel, 'r', label = lineFormula)\n",
    "\n",
    "# add a legend\n",
    "plt.legend()\n",
    "\n",
    "# return quality metrics\n",
    "print('The r^2 score is', r2_score(y, predictions))\n",
    "print('The mean squared error is', mean_squared_error(y, predictions))\n",
    "print('The mean absolute error is', mean_absolute_error(y, predictions))"
   ]
  },
  {
   "cell_type": "markdown",
   "id": "74466cbe-74ae-48b1-b05e-69204a61270c",
   "metadata": {},
   "source": [
    "# Lecture 7: Crash Course in Probability and Statistics\n",
    "\n",
    "See the notes in Canvas. There is no code for this lecture."
   ]
  }
 ],
 "metadata": {
  "kernelspec": {
   "display_name": "Python 3 (ipykernel)",
   "language": "python",
   "name": "python3"
  },
  "language_info": {
   "codemirror_mode": {
    "name": "ipython",
    "version": 3
   },
   "file_extension": ".py",
   "mimetype": "text/x-python",
   "name": "python",
   "nbconvert_exporter": "python",
   "pygments_lexer": "ipython3",
   "version": "3.11.7"
  }
 },
 "nbformat": 4,
 "nbformat_minor": 5
}
